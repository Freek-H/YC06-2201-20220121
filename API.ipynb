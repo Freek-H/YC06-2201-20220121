{
 "cells": [
  {
   "cell_type": "code",
   "execution_count": 2,
   "id": "199355d0",
   "metadata": {},
   "outputs": [],
   "source": [
    "import requests"
   ]
  },
  {
   "cell_type": "code",
   "execution_count": 3,
   "id": "f4c02918",
   "metadata": {},
   "outputs": [],
   "source": [
    "url = 'https://catfact.ninja/'"
   ]
  },
  {
   "cell_type": "code",
   "execution_count": 8,
   "id": "476456fd",
   "metadata": {},
   "outputs": [],
   "source": [
    "r = requests.get(url + 'fact')"
   ]
  },
  {
   "cell_type": "code",
   "execution_count": 9,
   "id": "80b0f60a",
   "metadata": {},
   "outputs": [
    {
     "data": {
      "text/plain": [
       "200"
      ]
     },
     "execution_count": 9,
     "metadata": {},
     "output_type": "execute_result"
    }
   ],
   "source": [
    "r.status_code"
   ]
  },
  {
   "cell_type": "code",
   "execution_count": 10,
   "id": "5cd1946e",
   "metadata": {},
   "outputs": [
    {
     "data": {
      "text/plain": [
       "{'fact': \"An adult lion's roar can be heard up to five miles (eight kilometers) away.\",\n",
       " 'length': 75}"
      ]
     },
     "execution_count": 10,
     "metadata": {},
     "output_type": "execute_result"
    }
   ],
   "source": [
    "r.json()"
   ]
  },
  {
   "cell_type": "code",
   "execution_count": 11,
   "id": "95f46390",
   "metadata": {},
   "outputs": [
    {
     "data": {
      "text/plain": [
       "b'{\"fact\":\"An adult lion\\'s roar can be heard up to five miles (eight kilometers) away.\",\"length\":75}'"
      ]
     },
     "execution_count": 11,
     "metadata": {},
     "output_type": "execute_result"
    }
   ],
   "source": [
    "r.content"
   ]
  },
  {
   "cell_type": "code",
   "execution_count": 13,
   "id": "b7e5da79",
   "metadata": {},
   "outputs": [],
   "source": [
    "x = r.json()"
   ]
  },
  {
   "cell_type": "code",
   "execution_count": 14,
   "id": "7a1a3133",
   "metadata": {},
   "outputs": [
    {
     "data": {
      "text/plain": [
       "dict"
      ]
     },
     "execution_count": 14,
     "metadata": {},
     "output_type": "execute_result"
    }
   ],
   "source": [
    "type(x)"
   ]
  },
  {
   "cell_type": "code",
   "execution_count": 15,
   "id": "5f44f2ae",
   "metadata": {},
   "outputs": [
    {
     "data": {
      "text/plain": [
       "{'fact': \"An adult lion's roar can be heard up to five miles (eight kilometers) away.\",\n",
       " 'length': 75}"
      ]
     },
     "execution_count": 15,
     "metadata": {},
     "output_type": "execute_result"
    }
   ],
   "source": [
    "x"
   ]
  },
  {
   "cell_type": "code",
   "execution_count": 16,
   "id": "7755468a",
   "metadata": {},
   "outputs": [
    {
     "data": {
      "text/plain": [
       "dict_keys(['fact', 'length'])"
      ]
     },
     "execution_count": 16,
     "metadata": {},
     "output_type": "execute_result"
    }
   ],
   "source": [
    "x.keys()"
   ]
  },
  {
   "cell_type": "code",
   "execution_count": 17,
   "id": "e41337ba",
   "metadata": {},
   "outputs": [
    {
     "data": {
      "text/plain": [
       "dict_values([\"An adult lion's roar can be heard up to five miles (eight kilometers) away.\", 75])"
      ]
     },
     "execution_count": 17,
     "metadata": {},
     "output_type": "execute_result"
    }
   ],
   "source": [
    "x.values()"
   ]
  },
  {
   "cell_type": "code",
   "execution_count": 18,
   "id": "ed95a8c2",
   "metadata": {},
   "outputs": [
    {
     "data": {
      "text/plain": [
       "\"An adult lion's roar can be heard up to five miles (eight kilometers) away.\""
      ]
     },
     "execution_count": 18,
     "metadata": {},
     "output_type": "execute_result"
    }
   ],
   "source": [
    "x['fact']"
   ]
  },
  {
   "cell_type": "code",
   "execution_count": 19,
   "id": "f4e00970",
   "metadata": {},
   "outputs": [
    {
     "data": {
      "text/plain": [
       "\"An adult lion's roar can be heard up to five miles (eight kilometers) away.\""
      ]
     },
     "execution_count": 19,
     "metadata": {},
     "output_type": "execute_result"
    }
   ],
   "source": [
    "r.json()['fact']"
   ]
  },
  {
   "cell_type": "code",
   "execution_count": null,
   "id": "dcd5ddd2",
   "metadata": {},
   "outputs": [],
   "source": []
  }
 ],
 "metadata": {
  "kernelspec": {
   "display_name": "Python 3 (ipykernel)",
   "language": "python",
   "name": "python3"
  },
  "language_info": {
   "codemirror_mode": {
    "name": "ipython",
    "version": 3
   },
   "file_extension": ".py",
   "mimetype": "text/x-python",
   "name": "python",
   "nbconvert_exporter": "python",
   "pygments_lexer": "ipython3",
   "version": "3.10.1"
  }
 },
 "nbformat": 4,
 "nbformat_minor": 5
}
