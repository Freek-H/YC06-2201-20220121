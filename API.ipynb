{
 "cells": [
  {
   "cell_type": "code",
   "execution_count": 2,
   "id": "0a98dee6",
   "metadata": {},
   "outputs": [],
   "source": [
    "import requests"
   ]
  },
  {
   "cell_type": "code",
   "execution_count": 3,
   "id": "f197349b",
   "metadata": {},
   "outputs": [],
   "source": [
    "url = 'https://catfact.ninja/'"
   ]
  },
  {
   "cell_type": "code",
   "execution_count": 8,
   "id": "1c8e5070",
   "metadata": {},
   "outputs": [],
   "source": [
    "r = requests.get(url + 'fact')"
   ]
  },
  {
   "cell_type": "code",
   "execution_count": 9,
   "id": "52670f0c",
   "metadata": {},
   "outputs": [
    {
     "data": {
      "text/plain": [
       "200"
      ]
     },
     "execution_count": 9,
     "metadata": {},
     "output_type": "execute_result"
    }
   ],
   "source": [
    "r.status_code"
   ]
  },
  {
   "cell_type": "code",
   "execution_count": 10,
   "id": "d0af3145",
   "metadata": {},
   "outputs": [
    {
     "data": {
      "text/plain": [
       "{'fact': \"An adult lion's roar can be heard up to five miles (eight kilometers) away.\",\n",
       " 'length': 75}"
      ]
     },
     "execution_count": 10,
     "metadata": {},
     "output_type": "execute_result"
    }
   ],
   "source": [
    "r.json()"
   ]
  },
  {
   "cell_type": "code",
   "execution_count": 11,
   "id": "2d59091c",
   "metadata": {},
   "outputs": [
    {
     "data": {
      "text/plain": [
       "b'{\"fact\":\"An adult lion\\'s roar can be heard up to five miles (eight kilometers) away.\",\"length\":75}'"
      ]
     },
     "execution_count": 11,
     "metadata": {},
     "output_type": "execute_result"
    }
   ],
   "source": [
    "r.content"
   ]
  },
  {
   "cell_type": "code",
   "execution_count": 13,
   "id": "c1ae3bb8",
   "metadata": {},
   "outputs": [],
   "source": [
    "x = r.json()"
   ]
  },
  {
   "cell_type": "code",
   "execution_count": 14,
   "id": "3919eea8",
   "metadata": {},
   "outputs": [
    {
     "data": {
      "text/plain": [
       "dict"
      ]
     },
     "execution_count": 14,
     "metadata": {},
     "output_type": "execute_result"
    }
   ],
   "source": [
    "type(x)"
   ]
  },
  {
   "cell_type": "code",
   "execution_count": 15,
   "id": "92ec134a",
   "metadata": {},
   "outputs": [
    {
     "data": {
      "text/plain": [
       "{'fact': \"An adult lion's roar can be heard up to five miles (eight kilometers) away.\",\n",
       " 'length': 75}"
      ]
     },
     "execution_count": 15,
     "metadata": {},
     "output_type": "execute_result"
    }
   ],
   "source": [
    "x"
   ]
  },
  {
   "cell_type": "code",
   "execution_count": 16,
   "id": "b5662287",
   "metadata": {},
   "outputs": [
    {
     "data": {
      "text/plain": [
       "dict_keys(['fact', 'length'])"
      ]
     },
     "execution_count": 16,
     "metadata": {},
     "output_type": "execute_result"
    }
   ],
   "source": [
    "x.keys()"
   ]
  },
  {
   "cell_type": "code",
   "execution_count": 17,
   "id": "b6af8bca",
   "metadata": {},
   "outputs": [
    {
     "data": {
      "text/plain": [
       "dict_values([\"An adult lion's roar can be heard up to five miles (eight kilometers) away.\", 75])"
      ]
     },
     "execution_count": 17,
     "metadata": {},
     "output_type": "execute_result"
    }
   ],
   "source": [
    "x.values()"
   ]
  },
  {
   "cell_type": "code",
   "execution_count": 18,
   "id": "915371b6",
   "metadata": {},
   "outputs": [
    {
     "data": {
      "text/plain": [
       "\"An adult lion's roar can be heard up to five miles (eight kilometers) away.\""
      ]
     },
     "execution_count": 18,
     "metadata": {},
     "output_type": "execute_result"
    }
   ],
   "source": [
    "x['fact']"
   ]
  },
  {
   "cell_type": "code",
   "execution_count": 19,
   "id": "107383cf",
   "metadata": {},
   "outputs": [
    {
     "data": {
      "text/plain": [
       "\"An adult lion's roar can be heard up to five miles (eight kilometers) away.\""
      ]
     },
     "execution_count": 19,
     "metadata": {},
     "output_type": "execute_result"
    }
   ],
   "source": [
    "r.json()['fact']"
   ]
  },
  {
   "cell_type": "code",
   "execution_count": null,
   "id": "da47d737",
   "metadata": {},
   "outputs": [],
   "source": []
  }
 ],
 "metadata": {
  "kernelspec": {
   "display_name": "Python 3 (ipykernel)",
   "language": "python",
   "name": "python3"
  },
  "language_info": {
   "codemirror_mode": {
    "name": "ipython",
    "version": 3
   },
   "file_extension": ".py",
   "mimetype": "text/x-python",
   "name": "python",
   "nbconvert_exporter": "python",
   "pygments_lexer": "ipython3",
   "version": "3.10.1"
  }
 },
 "nbformat": 4,
 "nbformat_minor": 5
}
